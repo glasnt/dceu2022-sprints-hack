{
 "cells": [
  {
   "cell_type": "markdown",
   "id": "6c311479",
   "metadata": {},
   "source": [
    "# Gathering Django Contributors"
   ]
  },
  {
   "cell_type": "markdown",
   "id": "f98e00b5-9bfe-49cc-959d-e8c2cce83775",
   "metadata": {},
   "source": [
    "---\n",
    "<font color='red'><b>Important</b></font>: This Notebook relies on a [now deprecated API](https://github.com/django/code.djangoproject.com/pull/198#issuecomment-2398110549). That API was deprecated due to infrequent use, but also it would [leak clear email addresses](https://github.com/glasnt/dceu2022-sprints-work/issues/3). Results from previous executions of this notebook have been removed.  \n",
    "\n",
    "---"
   ]
  },
  {
   "cell_type": "markdown",
   "id": "79757480",
   "metadata": {},
   "source": [
    "Skip to: [Scope](#scope), [Assumptions](#assumptions), [Data Gathering](#data-gathering), [Analysis](#analysis), [Results](#results).\n",
    "\n",
    "---\n",
    "\n",
    "Who contributed to Django 4.1?\n",
    "\n",
    "This answer should be easy to get, surely, because Django is hosted on GitHub. \n",
    "\n",
    "Well, yes, but more goes into a release of Django than just GitHub. There's also the separate ticketing system and translations, just to name two of the major systems involved. \n",
    "\n",
    "The Django repo also uses an interesting way of cutting releases, as described in [Carlton's notes](https://noumenal.es/posts/what-is-django-4/zj2/) from when he tried to answer this question. \n",
    "\n",
    "To get a more complete view of the information, we need to get data from a few systems. \n",
    "\n",
    "To start: which version do we want to get the information for? In this case, 4.1. (Noting of course that this data may still be in flux as this is still the current minor version, and will still have data changes until it is EOL'd some time in 2023 or there abouts.)\n",
    "\n",
    "There's also the information just in the comments themselves: \n",
    "\n",
    "* The author and the committer (not always the same person)\n",
    "* The Trac issue (often in the comment message itself)\n",
    "* Any manual thanks (often in the case of security fixes) as part of the message\n",
    "* Any discussions in attached pull requests. \n",
    "\n",
    "And from there, the Trac data, particularly the discussions in the ticket itself. \n",
    "\n",
    "So let's dive in.\n",
    "\n",
    "_Along the way there will also be italiced notes that mostly serve as \"here's how I did the thing\" (I'm very new to notebooks!)_\n",
    "\n",
    "---\n"
   ]
  },
  {
   "cell_type": "markdown",
   "id": "b5dc2c5a",
   "metadata": {},
   "source": [
    "## Defining Scope  <a class=\"anchor\" id=\"scope\"></a>"
   ]
  },
  {
   "cell_type": "markdown",
   "id": "9ba257f2",
   "metadata": {},
   "source": [
    "Before we can start analysing, we need to gather the data. \n",
    "\n",
    "Based on the original blog post, we first need to determine the start and stop commit range for the branch in question. \n",
    "\n",
    "To do that, let's get setup: \n",
    "\n",
    " * Clone a local copy of the django repo\n",
    "   * _this command uses `!` to call out to `git` in the shell_"
   ]
  },
  {
   "cell_type": "code",
   "execution_count": 1,
   "id": "ae5de0a7",
   "metadata": {},
   "outputs": [
    {
     "name": "stdout",
     "output_type": "stream",
     "text": [
      "fatal: destination path 'django-codebase' already exists and is not an empty directory.\r\n"
     ]
    }
   ],
   "source": [
    "!git clone https://github.com/django/django django-codebase"
   ]
  },
  {
   "cell_type": "markdown",
   "id": "7e15814d",
   "metadata": {},
   "source": [
    " * Install the `gitPython` package\n",
    "   * _this command uses `%%capture%%` as not to print the possibly lengthly output to the notebook_\n"
   ]
  },
  {
   "cell_type": "code",
   "execution_count": 2,
   "id": "1e4a35dd",
   "metadata": {
    "scrolled": true
   },
   "outputs": [],
   "source": [
    "%%capture\n",
    "import sys\n",
    "!{sys.executable} -m pip install GitPython"
   ]
  },
  {
   "cell_type": "markdown",
   "id": "d0963704",
   "metadata": {},
   "source": [
    " * and set up for analysis"
   ]
  },
  {
   "cell_type": "code",
   "execution_count": 3,
   "id": "daf2d794",
   "metadata": {},
   "outputs": [],
   "source": [
    "from git import Repo\n",
    "repo = Repo(\"django-codebase\")"
   ]
  },
  {
   "cell_type": "markdown",
   "id": "20c85b43",
   "metadata": {},
   "source": [
    "We want to target the 4.1 release: "
   ]
  },
  {
   "cell_type": "code",
   "execution_count": 4,
   "id": "66c1e612",
   "metadata": {},
   "outputs": [],
   "source": [
    "target_release = \"4.1\"\n",
    "previous_release = \"4.0\"  # semver -1"
   ]
  },
  {
   "cell_type": "markdown",
   "id": "9bda36d3",
   "metadata": {},
   "source": [
    "So using Carlton's method, let's get the start and end commits, and the merge commit: "
   ]
  },
  {
   "cell_type": "code",
   "execution_count": 5,
   "id": "6cebd98b",
   "metadata": {},
   "outputs": [],
   "source": [
    "start_commit = repo.commit(previous_release)\n",
    "end_commit = repo.commit(target_release)\n",
    "merge_base = repo.merge_base(start_commit, end_commit)[0]\n",
    "\n",
    "commits = list(repo.iter_commits(str(merge_base) + \"..\" + str(end_commit)))"
   ]
  },
  {
   "cell_type": "markdown",
   "id": "651c98e9",
   "metadata": {},
   "source": [
    "We can check the start and end commits to confirm we're in the right range, and about the right commit number: "
   ]
  },
  {
   "cell_type": "code",
   "execution_count": 6,
   "id": "a438c20e",
   "metadata": {},
   "outputs": [
    {
     "name": "stdout",
     "output_type": "stream",
     "text": [
      "2021-12-07 20:07:32 Mariusz Felisiak \n",
      "[4.0.x] Bumped version for 4.0 release.\n",
      "\n",
      "2022-08-03 18:33:01 Carlton Gibson \n",
      "[4.1.x] Bumped version for 4.0 release.\n",
      "\n",
      "Commit count: 829\n"
     ]
    }
   ],
   "source": [
    "from datetime import datetime\n",
    "\n",
    "for commit in [start_commit, end_commit]: \n",
    "    print(datetime.fromtimestamp(commit.authored_date), commit.author, \"\\n\" + commit.message)\n",
    "    \n",
    "print(\"Commit count:\", len(commits))"
   ]
  },
  {
   "cell_type": "markdown",
   "id": "3189d6fe",
   "metadata": {},
   "source": [
    "This looks about right: a ~8 month development window, bookmarked by Django Fellows. "
   ]
  },
  {
   "cell_type": "markdown",
   "id": "80717a02",
   "metadata": {},
   "source": [
    "---\n"
   ]
  },
  {
   "cell_type": "markdown",
   "id": "48b73cfd",
   "metadata": {},
   "source": [
    "# Assumptions <a class=\"anchor\" id=\"assumptions\"></a>\n",
    "\n"
   ]
  },
  {
   "cell_type": "markdown",
   "id": "85f92730",
   "metadata": {},
   "source": [
    "One of the assumptions we're making here is that we don't just want a list of the authors of the commits. \n",
    "\n",
    "We could already get this data, very easily. \n",
    "\n",
    "But more work goes into releasing open source software then just those who author code. \n",
    "\n",
    "Django uses a separate issue tracking system, [Trac](https://code.djangoproject.com/), hosted on https://code.djangoproject.com/. \n",
    "\n",
    "Django also uses a separate system for handling translations of the documentation, [Transifex](https://www.transifex.com/django/), which are output to https://github.com/django/django-docs-translations. (Documentation itself is in the main repo.)\n",
    "\n",
    "For our purposes, here are our assumptions: \n"
   ]
  },
  {
   "cell_type": "markdown",
   "id": "77d8e9c4",
   "metadata": {},
   "source": [
    "Commits: \n",
    "\n",
    "* The commits in the release branch are the scope of the changes that we will focus on for a release. \n",
    "* The authors of those commits are contributors. \n",
    "\n",
    "Associating Tickets: \n",
    "\n",
    "* For any commit in scope, the linked tickets are associated work. \n",
    "* The state of those tickets is not in question, because if work happened to make a commit, it counts. \n",
    "\n",
    "Tickets: \n",
    "\n",
    "* Any non-trivial interaction on any linked ticket is a candidate for inclusion, where activity on a ticket will be further analysed. \n",
    "  \n",
    "Associating Pull Requests: \n",
    "\n",
    "* Where tickets have linked GitHub Pull Requests, the linked pull requests are associated work. \n",
    "* Those pull requests may have additional interactions (e.g. code review, comments). \n",
    "\n",
    "Pull Requests: \n",
    "\n",
    "* Any non-trivial interaction on any linked pull request is a candidate for inclusion, where activity on a pull request will be further analysed. \n",
    "\n",
    "Translations: \n",
    " \n",
    "* All contributed translations are associated work. "
   ]
  },
  {
   "cell_type": "markdown",
   "id": "7d7446b1",
   "metadata": {},
   "source": [
    "**Note**: In this case \"non-trivial\" interactions are those interactions that are work done. Arguments can be made about how much interactions count. The quantitative number in this case doesn't count (one interaction of high quality could count, many spam interactions could not). These will be analysed later. "
   ]
  },
  {
   "cell_type": "markdown",
   "id": "f1059cb7",
   "metadata": {},
   "source": [
    "--"
   ]
  },
  {
   "cell_type": "markdown",
   "id": "066673ee",
   "metadata": {},
   "source": [
    "## Gathering Data"
   ]
  },
  {
   "cell_type": "markdown",
   "id": "406aee15",
   "metadata": {},
   "source": [
    "### From `git` \n",
    "\n",
    "With our local git clone, we can go through all the commits in our scope and gather the information about the associated tickets. \n",
    "\n",
    "We're using the assumption that ticket numbers appear in git messages. "
   ]
  },
  {
   "cell_type": "code",
   "execution_count": 8,
   "id": "eaf343ed",
   "metadata": {
    "scrolled": true
   },
   "outputs": [
    {
     "name": "stdout",
     "output_type": "stream",
     "text": [
      "Git Commits: 829\n",
      "Git Trac Links: 563\n",
      "Tickets: 402\n"
     ]
    }
   ],
   "source": [
    "import re \n",
    "def get_git_commits(commit):\n",
    "    git_commits.append(\n",
    "        {\n",
    "            \"django_version\": target_release,\n",
    "            \"commit_sha\": commit.hexsha,\n",
    "            \"datetime\": commit.authored_date,\n",
    "            \"author\": commit.author.name,\n",
    "            \"author_email\": commit.author.email,\n",
    "            \"committer\": commit.committer.name,\n",
    "            \"committer_email\": commit.committer.email,\n",
    "            \"message\": commit.message,\n",
    "        }\n",
    "    )\n",
    "\n",
    "    # Get all ticket references in message\n",
    "    # NOTE(glasnt): this will include \"Fixed\", but also \"Refs\" (which may include older tickets)\n",
    "    tickets = [x.replace(\"#\", \"\") for x in re.findall(\"\\#[0-9]*\", commit.message)]\n",
    "\n",
    "    for ticket in tickets:\n",
    "        if ticket:\n",
    "            git_trac_links.append(\n",
    "                {\"commit_sha\": commit.hexsha, \"trac_ticket_id\": ticket}\n",
    "            )\n",
    "\n",
    "            \n",
    "git_commits = []\n",
    "git_trac_links = []\n",
    "tickets = [] \n",
    "            \n",
    "for commit in commits:\n",
    "    get_git_commits(commit)\n",
    "    \n",
    "# Get unique list\n",
    "tickets = list(set([k[\"trac_ticket_id\"] for k in git_trac_links]))\n",
    "\n",
    "print(\"Git Commits:\", len(git_commits))\n",
    "print(\"Git Trac Links:\", len(git_trac_links))\n",
    "print(\"Tickets:\", len(tickets))"
   ]
  },
  {
   "cell_type": "markdown",
   "id": "ce5f3bbf",
   "metadata": {},
   "source": [
    "So we now have our associated tickets. \n",
    "\n",
    "---"
   ]
  },
  {
   "cell_type": "markdown",
   "id": "b7ada793",
   "metadata": {},
   "source": [
    "### From Trac\n",
    "From here, we need to get the information for each of these tickets out of Trac. Since this operation is expensive, we'll [cache the results](https://realpython.com/caching-external-api-requests/). "
   ]
  },
  {
   "cell_type": "code",
   "execution_count": 10,
   "id": "6c8ae990",
   "metadata": {},
   "outputs": [],
   "source": [
    "%%capture\n",
    "import sys\n",
    "!{sys.executable} -m pip install requests \"requests-cache[all]\" tqdm ipywidgets"
   ]
  },
  {
   "cell_type": "code",
   "execution_count": 11,
   "id": "be876b5f",
   "metadata": {},
   "outputs": [],
   "source": [
    "import requests\n",
    "from requests_cache import CachedSession\n",
    "\n",
    "# Note: POST may be ignored by default! So ensure we cache that. \n",
    "session = CachedSession('api_cache', backend='sqlite', allowable_methods=('GET', 'POST'))\n",
    "# Note: this will create a api_cache.sqlite file, which will contain your GitHub token (later).\n",
    "# Don't commit this file!"
   ]
  },
  {
   "cell_type": "markdown",
   "id": "7339ed5c",
   "metadata": {},
   "source": [
    "With that setup, we'll now go through all the trac tickets we found: "
   ]
  },
  {
   "cell_type": "code",
   "execution_count": 13,
   "id": "9b6e0d7d",
   "metadata": {},
   "outputs": [
    {
     "data": {
      "application/vnd.jupyter.widget-view+json": {
       "model_id": "8ca8f8b8e38743dc8b3de9fd99351ce5",
       "version_major": 2,
       "version_minor": 0
      },
      "text/plain": [
       "  0%|          | 0/402 [00:00<?, ?it/s]"
      ]
     },
     "metadata": {},
     "output_type": "display_data"
    },
    {
     "name": "stdout",
     "output_type": "stream",
     "text": [
      "Trac Tickets: 402\n",
      "Trac Ticket Comments: 9799\n"
     ]
    }
   ],
   "source": [
    "import json\n",
    "\n",
    "# Shout out to John Sandall https://twitter.com/John_Sandall/status/1573711570894462977 \n",
    "from tqdm.notebook import tqdm, trange\n",
    "\n",
    "def get_trac_details(ticket_no):\n",
    "    \"\"\"For a ticket number, get the ticket information and changes from Trac\"\"\"\n",
    "    \n",
    "    ticket_comments = []\n",
    "    \n",
    "    # Shout out to rixx https://gist.github.com/rixx/422392d2aa580b5d286e585418bf6915 \n",
    "    resp = session.post(\n",
    "        DJANGO_TRAC,\n",
    "        data=json.dumps(\n",
    "            {\"method\": \"ticket.get\", \"id\": ticket_no, \"params\": [ticket_no]}\n",
    "        ),\n",
    "        headers={\"Content-Type\": \"application/json\"},\n",
    "    )\n",
    "\n",
    "    data = resp.json()[\"result\"][3]\n",
    "    \n",
    "    ticket = {\n",
    "        \"ticket_id\": ticket_no,\n",
    "        \"status\": data[\"status\"],\n",
    "        \"reporter\": data[\"reporter\"],\n",
    "        \"resolution\": data[\"resolution\"],\n",
    "        \"description\": data[\"description\"],\n",
    "    }\n",
    "\n",
    "    # struct ticket.changeLog(int id, int when=0)\n",
    "    # Return the changelog as a list of tuples of the form\n",
    "    # (time, author, field, oldvalue, newvalue, permanent).\n",
    "    response = session.post(\n",
    "        DJANGO_TRAC,\n",
    "        data=json.dumps(\n",
    "            {\"method\": \"ticket.changeLog\", \"id\": ticket_no, \"params\": [ticket_no]}\n",
    "        ),\n",
    "        headers={\"Content-Type\": \"application/json\"},\n",
    "    )\n",
    "    \n",
    "    changes = response.json()[\"result\"]\n",
    "\n",
    "    for change in changes:\n",
    "        name = change[1]\n",
    "        if name:\n",
    "            name = name.split(\"<\")[0].strip() # remove emails,\n",
    "        ticket_comments.append(\n",
    "            {\n",
    "                \"ticket_id\": ticket_no,\n",
    "                \"datetime\": change[0][\"__jsonclass__\"][1],\n",
    "                \"name\": name,\n",
    "                \"change_type\": change[2],\n",
    "                \"old_value\": change[3],\n",
    "                \"new_value\": change[4],\n",
    "            }\n",
    "        )\n",
    "    return ticket, ticket_comments\n",
    "\n",
    "\n",
    "\n",
    "trac_tickets = []\n",
    "trac_ticket_comments = []\n",
    "\n",
    "DJANGO_TRAC = \"https://code.djangoproject.com/jsonrpc\"\n",
    "\n",
    "for ticket_no in tqdm(tickets): \n",
    "    ticket, ticket_comments = get_trac_details(ticket_no)\n",
    "    trac_tickets.append(ticket)\n",
    "    trac_ticket_comments += ticket_comments\n",
    "\n",
    "print(\"Trac Tickets:\", len(trac_tickets))\n",
    "print(\"Trac Ticket Comments:\", len(trac_ticket_comments))"
   ]
  },
  {
   "cell_type": "markdown",
   "id": "183bc4a6",
   "metadata": {},
   "source": [
    "We now have a list of all the Trac tickets and comments associated to commits in our target release. \n",
    "\n",
    "----"
   ]
  },
  {
   "cell_type": "markdown",
   "id": "2472b59a",
   "metadata": {},
   "source": [
    "### From GitHub\n",
    "\n",
    "From here, we can check for additional interactions on GitHub. \n",
    "\n",
    "Django's trac uses a [custom patch](https://github.com/django/code.djangoproject.com/blob/main/trac-env/htdocs/tickethacks.js#L38) to use the GitHub API to search for Pull Requests with the linked tickets, much like we did for associating commits to track tickets. \n",
    "\n",
    "We can use this same GitHub Search API to get the list of associated pull requests, then all the interactions on those pull requests. \n",
    "\n",
    "_Jupyter notebooks support `.env` files! Use the config below to load your env_"
   ]
  },
  {
   "cell_type": "code",
   "execution_count": 16,
   "id": "e1b7356c",
   "metadata": {
    "scrolled": true
   },
   "outputs": [
    {
     "name": "stdout",
     "output_type": "stream",
     "text": [
      "The dotenv extension is already loaded. To reload it, use:\n",
      "  %reload_ext dotenv\n"
     ]
    }
   ],
   "source": [
    "%load_ext dotenv\n",
    "%dotenv"
   ]
  },
  {
   "cell_type": "code",
   "execution_count": 17,
   "id": "fb77a6c3",
   "metadata": {},
   "outputs": [],
   "source": [
    "# Use a GitHub token to get better rate limits!\n",
    "import os\n",
    "GITHUB_TOKEN = os.getenv(\"GITHUB_TOKEN\")"
   ]
  },
  {
   "cell_type": "code",
   "execution_count": 18,
   "id": "9d784e07",
   "metadata": {},
   "outputs": [
    {
     "name": "stdout",
     "output_type": "stream",
     "text": [
      "GitHub core API limit: 0 / 5000 , resets 2022-11-24 13:37:55\n",
      "GitHub search API limit: 0 / 30 , resets 2022-11-24 12:38:55\n"
     ]
    }
   ],
   "source": [
    "# Check your rate limits manually\n",
    "\n",
    "# https://docs.github.com/en/rest/rate-limit \n",
    "# curl \\\n",
    "#  -H \"Accept: application/vnd.github+json\" \\\n",
    "#  -H \"Authorization: Bearer <YOUR-TOKEN>\" \\\n",
    "#  https://api.github.com/rate_limit\n",
    "\n",
    "from datetime import datetime\n",
    "from pprint import pprint\n",
    "\n",
    "with session.cache_disabled():\n",
    "    resp = session.get(\"https://api.github.com/rate_limit\",\n",
    "            headers={\n",
    "                \"Authorization\": f\"Bearer {GITHUB_TOKEN}\",\n",
    "                \"Accept\": \"application/vnd.github.v3.raw\",\n",
    "            }\n",
    "        )\n",
    "if \"message\" in resp.json().keys():\n",
    "    print(resp.json())\n",
    "else: \n",
    "    data = resp.json()[\"resources\"]\n",
    "    now = datetime.now()\n",
    "\n",
    "    for limit_type in [\"core\", \"search\"]: \n",
    "        d = data[limit_type]\n",
    "        print(f\"GitHub {limit_type} API limit:\", d[\"used\"], \"/\", d[\"limit\"], \", resets\", datetime.fromtimestamp(d[\"reset\"]) )\n"
   ]
  },
  {
   "cell_type": "code",
   "execution_count": 22,
   "id": "c873224b",
   "metadata": {},
   "outputs": [
    {
     "data": {
      "application/vnd.jupyter.widget-view+json": {
       "model_id": "4cd089e437354f01b208b2adc603524b",
       "version_major": 2,
       "version_minor": 0
      },
      "text/plain": [
       "  0%|          | 0/402 [00:00<?, ?it/s]"
      ]
     },
     "metadata": {},
     "output_type": "display_data"
    },
    {
     "data": {
      "application/vnd.jupyter.widget-view+json": {
       "model_id": "ffcf6e15310a4530855b875ae91b93b0",
       "version_major": 2,
       "version_minor": 0
      },
      "text/plain": [
       "  0%|          | 0/756 [00:00<?, ?it/s]"
      ]
     },
     "metadata": {},
     "output_type": "display_data"
    },
    {
     "name": "stdout",
     "output_type": "stream",
     "text": [
      "Pull requests: 756\n"
     ]
    }
   ],
   "source": [
    "import time \n",
    "\n",
    "def github_api(uri):\n",
    "    \"\"\"For a GitHub API path, return the JSON data\"\"\"\n",
    "    resp = session.get(\n",
    "        \"https://api.github.com\" + uri,\n",
    "        headers={\n",
    "            \"Authorization\": f\"Bearer {GITHUB_TOKEN}\",\n",
    "            \"Accept\": \"application/vnd.github+json\",\n",
    "        }\n",
    "    )\n",
    "\n",
    "    if resp.status_code != 200:\n",
    "        if \"X-RateLimit-Remaining\" in resp.headers and resp.headers[\"X-RateLimit-Remaining\"] == 0:\n",
    "            wait_seconds = int(resp.headers.get(\"x-ratelimit-reset\")) - int(time.time())\n",
    "            wait_minutes = int(wait_seconds / 60)\n",
    "            print(f\"Rate limit expired. Wait {wait_minutes} minutes (or {wait_seconds} seconds).\")\n",
    "        raise ValueError(resp.json()[\"message\"])\n",
    "\n",
    "    return resp.json()\n",
    "\n",
    "def search_for_pull_requests(ticket_id):\n",
    "    \"\"\"For a ticket ID, search for related pull requests,\n",
    "    based on the system trac uses\"\"\"\n",
    "    data = github_api(\n",
    "        \"/search/issues?q=repo:django/django+in:title+type:pr+\"\n",
    "        + \"%23\" + ticket_id + \"%20\" \n",
    "        + \"+%23\"+ ticket_id + \"%2C\" \n",
    "        + \"+%23\"+ ticket_id + \"%3A\" \n",
    "        + \"+%23\"+ ticket_id + \"%29\"\n",
    "    )[\"items\"]\n",
    "\n",
    "    return [x[\"number\"] for x in data]\n",
    "\n",
    "\n",
    "def get_pull_request(pr_id): \n",
    "    \"\"\"For a given pull request ID, get the minimum data from the github API \"\"\"\n",
    "    data = github_api(f\"/repos/django/django/pulls/{pr_id}\")\n",
    "    \n",
    "    pr = {\"id\": data[\"number\"], \n",
    "          \"state\": data[\"state\"], \n",
    "          \"user\": data[\"user\"][\"login\"], \n",
    "         }\n",
    "    \n",
    "    return pr\n",
    "\n",
    "pull_request_ids = []\n",
    "pull_requests = []\n",
    "\n",
    "for ticket_no in tqdm(tickets): \n",
    "    pull_request_ids += search_for_pull_requests(ticket_no)\n",
    "\n",
    "pull_request_ids = list(set(pull_request_ids))\n",
    "\n",
    "for pr_id in tqdm(pull_request_ids):\n",
    "    pull_requests.append(get_pull_request(pr_id))\n",
    "\n",
    "print(\"Pull requests:\", len(pull_requests))"
   ]
  },
  {
   "cell_type": "markdown",
   "id": "f59c847c",
   "metadata": {},
   "source": [
    "For all these pull requests, we need to get the comments associated.  "
   ]
  },
  {
   "cell_type": "code",
   "execution_count": 23,
   "id": "dfe2390c",
   "metadata": {},
   "outputs": [
    {
     "data": {
      "application/vnd.jupyter.widget-view+json": {
       "model_id": "6fb9cd49fcc54d718211a158cac865dc",
       "version_major": 2,
       "version_minor": 0
      },
      "text/plain": [
       "  0%|          | 0/756 [00:00<?, ?it/s]"
      ]
     },
     "metadata": {},
     "output_type": "display_data"
    },
    {
     "name": "stdout",
     "output_type": "stream",
     "text": [
      "Pull Request Comments: 6263\n"
     ]
    }
   ],
   "source": [
    "def get_comments_from_pull_request(pull_request_id):\n",
    "    \"\"\"For a pull request ID, get the comments\"\"\"\n",
    "    comments = []\n",
    "\n",
    "    # Comments\n",
    "    data = github_api(f\"/repos/django/django/pulls/{pull_request_id}/comments\")\n",
    "\n",
    "    for record in data:\n",
    "        comments.append(\n",
    "            {\n",
    "                \"user\": record[\"user\"][\"login\"],\n",
    "                \"commit_id\": record[\"commit_id\"],\n",
    "                \"message\": record[\"body\"],\n",
    "                \"pull_request\": pull_request_id\n",
    "            }\n",
    "        )\n",
    "\n",
    "    # Review Comments\n",
    "    data = github_api(f\"/repos/django/django/issues/{pull_request_id}/comments\")\n",
    "\n",
    "    for record in data:\n",
    "        comments.append(\n",
    "            {\n",
    "                \"user\": record[\"user\"][\"login\"],\n",
    "                \"commit_id\": None,\n",
    "                \"message\": record[\"body\"],\n",
    "                \"pull_request\": pull_request_id,\n",
    "            }\n",
    "        )\n",
    "\n",
    "    return comments\n",
    "\n",
    "pr_comments = []\n",
    "\n",
    "for request in tqdm(pull_requests):\n",
    "    pr_comments += get_comments_from_pull_request(request[\"id\"])\n",
    "\n",
    "print(\"Pull Request Comments:\", len(pr_comments))\n"
   ]
  },
  {
   "cell_type": "markdown",
   "id": "2b31aebf",
   "metadata": {},
   "source": [
    "### Security Thanks\n",
    "\n",
    "Another dataset we need to add in is security acknowledgements. \n",
    "\n",
    "Security reports are [separate to tickets](https://docs.djangoproject.com/en/dev/internals/security/), and thus don't follow the normal git flow. They are handled by the security team, and [credit is given separately](https://twitter.com/carltongibson/status/1588455611049676800).\n",
    "\n",
    "So, we need to manually search for that credit. \n",
    "\n",
    "_This section uses a little bit of pandas, where I was trying out the interface. The output is also very nicely compact here, but it doesn't get used much later on._"
   ]
  },
  {
   "cell_type": "code",
   "execution_count": null,
   "id": "d4dd181a",
   "metadata": {
    "scrolled": true
   },
   "outputs": [],
   "source": [
    "import pandas as pd\n",
    "\n",
    "git_commits_df = pd.DataFrame(git_commits)\n",
    "pd.set_option('display.max_colwidth', None) # ensure all data is displayed. \n",
    "git_commits_df[git_commits_df.message.str.contains(\"Thanks\")][[\"author\", \"message\"]]\n"
   ]
  },
  {
   "cell_type": "markdown",
   "id": "a22e8baf",
   "metadata": {},
   "source": [
    "From here, let's isolate those thanks mentions (shout out to [https://pythex.org/](https://pythex.org/)!)"
   ]
  },
  {
   "cell_type": "code",
   "execution_count": 25,
   "id": "afc7da08",
   "metadata": {},
   "outputs": [
    {
     "data": {
      "text/html": [
       "<div>\n",
       "<style scoped>\n",
       "    .dataframe tbody tr th:only-of-type {\n",
       "        vertical-align: middle;\n",
       "    }\n",
       "\n",
       "    .dataframe tbody tr th {\n",
       "        vertical-align: top;\n",
       "    }\n",
       "\n",
       "    .dataframe thead th {\n",
       "        text-align: right;\n",
       "    }\n",
       "</style>\n",
       "<table border=\"1\" class=\"dataframe\">\n",
       "  <thead>\n",
       "    <tr style=\"text-align: right;\">\n",
       "      <th></th>\n",
       "      <th>0</th>\n",
       "    </tr>\n",
       "  </thead>\n",
       "  <tbody>\n",
       "    <tr>\n",
       "      <th>3</th>\n",
       "      <td>to Motoyasu Saburi</td>\n",
       "    </tr>\n",
       "    <tr>\n",
       "      <th>6</th>\n",
       "      <td>to Paolo Melchiorre</td>\n",
       "    </tr>\n",
       "    <tr>\n",
       "      <th>7</th>\n",
       "      <td>to Claude Paroz</td>\n",
       "    </tr>\n",
       "    <tr>\n",
       "      <th>14</th>\n",
       "      <td>Johnny Metz</td>\n",
       "    </tr>\n",
       "    <tr>\n",
       "      <th>24</th>\n",
       "      <td>Claude Paroz</td>\n",
       "    </tr>\n",
       "    <tr>\n",
       "      <th>...</th>\n",
       "      <td>...</td>\n",
       "    </tr>\n",
       "    <tr>\n",
       "      <th>744</th>\n",
       "      <td>Lucidot for the report and Mariusz Felisiak</td>\n",
       "    </tr>\n",
       "    <tr>\n",
       "      <th>779</th>\n",
       "      <td>Simon Charette</td>\n",
       "    </tr>\n",
       "    <tr>\n",
       "      <th>791</th>\n",
       "      <td>Simon Charette</td>\n",
       "    </tr>\n",
       "    <tr>\n",
       "      <th>797</th>\n",
       "      <td>to Claude Paroz</td>\n",
       "    </tr>\n",
       "    <tr>\n",
       "      <th>809</th>\n",
       "      <td>Benjamin Locher</td>\n",
       "    </tr>\n",
       "  </tbody>\n",
       "</table>\n",
       "<p>67 rows × 1 columns</p>\n",
       "</div>"
      ],
      "text/plain": [
       "                                               0\n",
       "3                             to Motoyasu Saburi\n",
       "6                            to Paolo Melchiorre\n",
       "7                                to Claude Paroz\n",
       "14                                   Johnny Metz\n",
       "24                                  Claude Paroz\n",
       "..                                           ...\n",
       "744  Lucidot for the report and Mariusz Felisiak\n",
       "779                               Simon Charette\n",
       "791                               Simon Charette\n",
       "797                              to Claude Paroz\n",
       "809                              Benjamin Locher\n",
       "\n",
       "[67 rows x 1 columns]"
      ]
     },
     "execution_count": 25,
     "metadata": {},
     "output_type": "execute_result"
    }
   ],
   "source": [
    "git_commits_df.message.str.extract(r'Thanks ([a-zA-Z ]+) for').dropna()"
   ]
  },
  {
   "cell_type": "markdown",
   "id": "82bc2f4d",
   "metadata": {},
   "source": [
    "The problem you're seeing here is that we're dropping records: "
   ]
  },
  {
   "cell_type": "code",
   "execution_count": 26,
   "id": "72c519d6",
   "metadata": {},
   "outputs": [
    {
     "name": "stdout",
     "output_type": "stream",
     "text": [
      "Compare: contains has 83 and extracts has 67\n",
      "Do they match? False\n"
     ]
    }
   ],
   "source": [
    "contains_records = len(git_commits_df[git_commits_df.message.str.contains(\"Thanks\")][[\"author\", \"message\"]])\n",
    "extracts_records = len(git_commits_df.message.str.extract(r'Thanks ([a-zA-Z ]+) for').dropna())\n",
    "\n",
    "print(\"Compare: contains has\", contains_records, \"and extracts has\", extracts_records)\n",
    "print(\"Do they match?\", contains_records == extracts_records)"
   ]
  },
  {
   "cell_type": "markdown",
   "id": "fda233c0",
   "metadata": {},
   "source": [
    "An issue here is that there are some users with non-alpha characters in their names. "
   ]
  },
  {
   "cell_type": "code",
   "execution_count": 27,
   "id": "eb78f284",
   "metadata": {},
   "outputs": [
    {
     "name": "stdout",
     "output_type": "stream",
     "text": [
      "778    Fixed #33159 -- Reverted \"Fixed #32970 -- Changed WhereNode.clone() to create a shallow copy of children.\"\\n\\nThis reverts commit e441847ecae99dd1ccd0d9ce76dbcff51afa863c.\\r\\n\\r\\nA shallow copy is not enough because querysets can be reused and\\r\\nevaluated in nested nodes, which shouldn't mutate JOIN aliases.\\r\\n\\r\\nThanks Michal Čihař for the report.\n",
      "Name: message, dtype: object\n"
     ]
    }
   ],
   "source": [
    "example_user = \"Michal\"\n",
    "example_commits = git_commits_df[git_commits_df.message.str.contains(example_user).dropna()][\"message\"]\n",
    "print(example_commits)"
   ]
  },
  {
   "cell_type": "markdown",
   "id": "cf87c9fe",
   "metadata": {},
   "source": [
    "So we need to make sure we're using better regex."
   ]
  },
  {
   "cell_type": "code",
   "execution_count": 31,
   "id": "d11665d6",
   "metadata": {},
   "outputs": [
    {
     "name": "stdout",
     "output_type": "stream",
     "text": [
      "                       0\n",
      "3     to Motoyasu Saburi\n",
      "6    to Paolo Melchiorre\n",
      "7        to Claude Paroz\n",
      "14           Johnny Metz\n",
      "24          Claude Paroz\n",
      "..                   ...\n",
      "778         Michal Čihař\n",
      "779       Simon Charette\n",
      "791       Simon Charette\n",
      "797      to Claude Paroz\n",
      "809      Benjamin Locher\n",
      "\n",
      "[74 rows x 1 columns]\n",
      "Compare: contains has 83 and extracts has 74\n",
      "Do they match? False\n"
     ]
    }
   ],
   "source": [
    "w_filter = git_commits_df.message.str.extract(r'Thanks ([\\w ]+) for').dropna()\n",
    "print(w_filter)\n",
    "\n",
    "print(\"Compare: contains has\", contains_records, \"and extracts has\", len(w_filter))\n",
    "print(\"Do they match?\", contains_records == len(w_filter))"
   ]
  },
  {
   "cell_type": "markdown",
   "id": "911793e7",
   "metadata": {},
   "source": [
    "But even then we're missing some! Such as: \n",
    "\n"
   ]
  },
  {
   "cell_type": "code",
   "execution_count": 32,
   "id": "871f4072",
   "metadata": {},
   "outputs": [
    {
     "data": {
      "text/html": [
       "<div>\n",
       "<style scoped>\n",
       "    .dataframe tbody tr th:only-of-type {\n",
       "        vertical-align: middle;\n",
       "    }\n",
       "\n",
       "    .dataframe tbody tr th {\n",
       "        vertical-align: top;\n",
       "    }\n",
       "\n",
       "    .dataframe thead th {\n",
       "        text-align: right;\n",
       "    }\n",
       "</style>\n",
       "<table border=\"1\" class=\"dataframe\">\n",
       "  <thead>\n",
       "    <tr style=\"text-align: right;\">\n",
       "      <th></th>\n",
       "      <th>author</th>\n",
       "      <th>message</th>\n",
       "    </tr>\n",
       "  </thead>\n",
       "  <tbody>\n",
       "    <tr>\n",
       "      <th>202</th>\n",
       "      <td>Mariusz Felisiak</td>\n",
       "      <td>Fixed CVE-2022-28346 -- Protected QuerySet.annotate(), aggregate(), and extra() against SQL injection in column aliases.\\n\\nThanks Splunk team: Preston Elder, Jacob Davis, Jacob Moore,\\nMatt Hanson, David Briggs, and a security researcher: Danylo Dmytriiev\\n(DDV_UA) for the report.\\n</td>\n",
       "    </tr>\n",
       "  </tbody>\n",
       "</table>\n",
       "</div>"
      ],
      "text/plain": [
       "               author  \\\n",
       "202  Mariusz Felisiak   \n",
       "\n",
       "                                                                                                                                                                                                                                                                                          message  \n",
       "202  Fixed CVE-2022-28346 -- Protected QuerySet.annotate(), aggregate(), and extra() against SQL injection in column aliases.\\n\\nThanks Splunk team: Preston Elder, Jacob Davis, Jacob Moore,\\nMatt Hanson, David Briggs, and a security researcher: Danylo Dmytriiev\\n(DDV_UA) for the report.\\n  "
      ]
     },
     "execution_count": 32,
     "metadata": {},
     "output_type": "execute_result"
    }
   ],
   "source": [
    "git_commits_df[git_commits_df.message.str.contains(\"Splunk\")][[\"author\", \"message\"]]"
   ]
  },
  {
   "cell_type": "markdown",
   "id": "2ebeb8f6",
   "metadata": {},
   "source": [
    "So let's just open it up to any character. "
   ]
  },
  {
   "cell_type": "code",
   "execution_count": 34,
   "id": "890ba457",
   "metadata": {},
   "outputs": [
    {
     "name": "stdout",
     "output_type": "stream",
     "text": [
      "                       0\n",
      "3     to Motoyasu Saburi\n",
      "6    to Paolo Melchiorre\n",
      "7        to Claude Paroz\n",
      "14           Johnny Metz\n",
      "24          Claude Paroz\n",
      "..                   ...\n",
      "778         Michal Čihař\n",
      "779       Simon Charette\n",
      "791       Simon Charette\n",
      "797      to Claude Paroz\n",
      "809      Benjamin Locher\n",
      "\n",
      "[80 rows x 1 columns]\n",
      "Compare: contains has 83 and extracts has 80\n",
      "Do they match? False\n"
     ]
    }
   ],
   "source": [
    "dot_filter = git_commits_df.message.str.extract(r'Thanks (.*) for').dropna()\n",
    "\n",
    "print(dot_filter)\n",
    "\n",
    "print(\"Compare: contains has\", contains_records, \"and extracts has\", len(dot_filter))\n",
    "print(\"Do they match?\", contains_records == len(dot_filter))"
   ]
  },
  {
   "cell_type": "markdown",
   "id": "e6ef986b",
   "metadata": {},
   "source": [
    "But then we're still missing some!\n",
    "\n",
    "😨\n",
    "\n",
    "So let's just do it manually. "
   ]
  },
  {
   "cell_type": "code",
   "execution_count": 38,
   "id": "5234c733",
   "metadata": {},
   "outputs": [
    {
     "name": "stdout",
     "output_type": "stream",
     "text": [
      "Security thanks: 64\n",
      "\n",
      "Adam Johnson\n",
      "Adam Zimmerman\n",
      "Alan Crosswell\n",
      "Alan Ryan\n",
      "Allen Jonathan David\n",
      "Andrew Chen Wang\n",
      "Antonio Terceiro\n",
      "Arsalan Ghassemi\n",
      "Baptiste Mispelon\n",
      "bcail\n",
      "Ben Picolo\n",
      "Benjamin Locher\n",
      "Chris Bailey\n",
      "Chris Lee\n",
      "Claude Paroz\n",
      "Daniel Swain\n",
      "David Glenck\n",
      "David Smith\n",
      "David Wyde\n",
      "Dennis Brinkrolf\n",
      "Eugene Kovalev\n",
      "Ferran Jovell\n",
      "Florian Apolloner\n",
      "Hervé Le Roy\n",
      "Jacob Walls\n",
      "Jakob Köhler\n",
      "Johnny Metz\n",
      "Jonny Park\n",
      "Joseph Abrahams\n",
      "Keryn Knight\n",
      "Kevin Marsh\n",
      "lind-marcus\n",
      "Lucidot\n",
      "Mariusz Felisiak\n",
      "Matt Westcott\n",
      "Michal Čihař\n",
      "Motoyasu Saburi\n",
      "Nick Pope\n",
      "OutOfFocus4\n",
      "Paolo Melchiorre\n",
      "Paul in 't Hout\n",
      "Pēteris Caune\n",
      "Rick Yang\n",
      "Sergey Fedoseev\n",
      "Shai Berger\n",
      "Silvio Gutierrez\n",
      "Simon Charette\n",
      "Sjoerd Job Postmus\n",
      "Sourav Kumar\n",
      "TakuYoshikai (Aeye Security Lab)\n",
      "TengMA(@te3t123)\n",
      "Terence Honles\n",
      "Theodore Ni\n",
      "Tim Graham\n",
      "Tim McCurrach\n",
      "Tobias Beng\n",
      "Todor Velichkov\n",
      "Tom Carrick\n",
      "yakimka\n",
      "אורי\n",
      "Thanks Splunk team: Preston Elder, Jacob Davis, Jacob Moore, Matt Hanson, David Briggs, and a security researcher: Danylo Dmytriiev (DDV_UA) for the report. \n",
      "Thanks to Adam Johnson, Claude Paroz, Keryn Knight, and Thibaud Colas for review. \n",
      "Thanks Florian Apolloner, Chris Jerdonek, Hannes Ljungberg, Nick Pope, and Mariusz Felisiak for reviews. \n"
     ]
    }
   ],
   "source": [
    "def flatten(l): \n",
    "    return [item for sublist in l for item in sublist]\n",
    "\n",
    "def unique(l): \n",
    "    l = list(filter(lambda i: i is not None, l))\n",
    "    l = [a.strip() for a in l]\n",
    "    return sorted(list(set(l)), key=str.casefold)\n",
    "\n",
    "thanks_messages = git_commits_df[git_commits_df.message.str.contains(\"Thanks\")][\"message\"].values.tolist()\n",
    "\n",
    "thanks = []\n",
    "security_thanks = []\n",
    "second_pass = []\n",
    "\n",
    "for msg in thanks_messages: \n",
    "    found = False\n",
    "    thanks = re.findall(\"Thanks (.*) for\", msg)\n",
    "    if not thanks:\n",
    "        second_pass.append(msg)\n",
    "        continue\n",
    "    # Some messages contain multiple people, so split them out. \n",
    "    for thank in thanks:\n",
    "        thank = thank.replace(\"to \", \"\")\n",
    "        if \",\" in thank:\n",
    "            thank = thank.split(\",\")\n",
    "            security_thanks += [t.strip() for t in thank]\n",
    "        elif \"and\" in thank:\n",
    "            thank = thank.split(\"and\")\n",
    "            security_thanks += [t.strip() for t in thank]\n",
    "        else:\n",
    "            security_thanks.append(thank)\n",
    "\n",
    "# inline cleanup\n",
    "for i, thank in enumerate(security_thanks):\n",
    "    security_thanks[i] = thank.split(\"for\")[0]\n",
    "    \n",
    "for i, thank in enumerate(security_thanks):\n",
    "    security_thanks[i] = thank.split(\"and\")[0]\n",
    "    \n",
    "    \n",
    "# remove duplicates\n",
    "security_thanks = unique(security_thanks)\n",
    "            \n",
    "# parsing more complicated thanks, just stripping context. \n",
    "# outputs groups as a whole. More cleanup will be required.\n",
    "for thank in second_pass: \n",
    "    thanks = \"\"\n",
    "    found = False\n",
    "    for line in thank.splitlines():\n",
    "        if \"Thanks\" in line:\n",
    "            found = True\n",
    "        if found:\n",
    "            thanks += line + \" \"\n",
    "    security_thanks.append(thanks)\n",
    "\n",
    "print(\"Security thanks:\", len(security_thanks))\n",
    "print(\"\\n\".join(security_thanks))"
   ]
  },
  {
   "cell_type": "markdown",
   "id": "8b6b28b6",
   "metadata": {},
   "source": [
    "_This list won't be as long as the original list, because we've already remove duplicates, and split out rows._"
   ]
  },
  {
   "cell_type": "markdown",
   "id": "4a11a093",
   "metadata": {},
   "source": [
    "Instead of complicated regex, we could just use [NLTK](https://www.nltk.org/), no?\n",
    "\n",
    "_Much of the following is based on https://unbiased-coder.com/extract-names-python-nltk/_"
   ]
  },
  {
   "cell_type": "code",
   "execution_count": null,
   "id": "6126cd2a",
   "metadata": {},
   "outputs": [],
   "source": [
    "import nltk\n",
    "\n",
    "nltk.download('punkt')\n",
    "nltk.download('averaged_perceptron_tagger')\n",
    "nltk.download('maxent_ne_chunker')\n",
    "nltk.download('words')\n"
   ]
  },
  {
   "cell_type": "code",
   "execution_count": 43,
   "id": "2d459e41",
   "metadata": {},
   "outputs": [
    {
     "name": "stdout",
     "output_type": "stream",
     "text": [
      "People: 86\n",
      "Adam Johnson\n",
      "Adam Zimmerman\n",
      "Alan Crosswell\n",
      "Alan Ryan\n",
      "Andreas Pelme\n",
      "Andrew Chen Wang\n",
      "Antonio Terceiro\n",
      "Arsalan Ghassemi\n",
      "Baptiste Mispelon\n",
      "Ben Picolo\n",
      "Benjamin Locher\n",
      "Carlton Gibson\n",
      "Catalan\n",
      "Changed DATE_FORMAT\n",
      "Chris Jerdonek\n",
      "Chris Lee\n",
      "Claude Paroz\n",
      "Danylo Dmytriiev\n",
      "David Briggs\n",
      "David Smith\n",
      "Dennis Brinkrolf\n",
      "Django\n",
      "Exact\n",
      "Ferran Jovell\n",
      "Fixed\n",
      "Fixed CheckConstraint\n",
      "Fixed DoS\n",
      "Fixed QuerySet\n",
      "Florian Apolloner\n",
      "Hannes Ljungberg\n",
      "Hervé Le Roy\n",
      "Jacob Davis\n",
      "Jacob Moore\n",
      "Jakob Köhler\n",
      "Jonny Park\n",
      "Joseph Abrahams\n",
      "Keryn Knight\n",
      "Kevin Marsh\n",
      "Lucidot\n",
      "Mariusz Felisiak\n",
      "Matches\n",
      "Matt Hanson\n",
      "Matt Westcott\n",
      "Michal Čihař\n",
      "Month\n",
      "Motoyasu Saburi\n",
      "Moved\n",
      "Ndlovu\n",
      "Nick Pope\n",
      "Paolo Melchiorre\n",
      "Paul\n",
      "Preston Elder\n",
      "Python\n",
      "Pēteris Caune\n",
      "Redis\n",
      "Refs\n",
      "Rick Yang\n",
      "Sergey Fedoseev\n",
      "Shai Berger\n",
      "Silvio Gutierrez\n",
      "Simon Charette\n",
      "Sjoerd Job Postmus\n",
      "Sourav Kumar\n",
      "Sphinx\n",
      "Splunk\n",
      "Switched\n",
      "Terence Honles\n",
      "Thanks Allen Jonathan David\n",
      "Thanks Chris Bailey\n",
      "Thanks Daniel Swain\n",
      "Thanks David Glenck\n",
      "Thanks David Wyde\n",
      "Thanks Eugene Kovalev\n",
      "Thanks Jacob Walls\n",
      "Thanks Johnny Metz\n",
      "Thanks Keryn Knight\n",
      "Thanks OutOfFocus4\n",
      "Thanks Shai Berger\n",
      "Thanks Simon Charette\n",
      "Thanks Takuto Yoshikai\n",
      "Thibaud Colas\n",
      "Tim Graham\n",
      "Tim McCurrach\n",
      "Tobias Bengfort\n",
      "Todor Velichkov\n",
      "Tom Carrick\n"
     ]
    }
   ],
   "source": [
    "from nltk import ne_chunk, pos_tag, word_tokenize\n",
    "from nltk.tree import Tree\n",
    "\n",
    "def get_people(text): \n",
    "    \"\"\"For a string of text, return people.\"\"\"\n",
    "    people = []\n",
    "    nltk_results = ne_chunk(pos_tag(word_tokenize(text)))\n",
    "    for nltk_result in nltk_results:\n",
    "        if type(nltk_result) == Tree:\n",
    "            name = ''\n",
    "            for nltk_result_leaf in nltk_result.leaves():\n",
    "                name += nltk_result_leaf[0] + ' '\n",
    "            if nltk_result.label() == \"PERSON\":\n",
    "                people.append(name.strip())\n",
    "    return people\n",
    "\n",
    "thanks_messages = git_commits_df[git_commits_df.message.str.contains(\"Thanks\")][\"message\"].values.tolist()\n",
    "\n",
    "people = []\n",
    "\n",
    "for message in thanks_messages:\n",
    "    people += get_people(message)\n",
    "\n",
    "people = unique(people)\n",
    "\n",
    "print(\"People:\", len(people))\n",
    "print(\"\\n\".join(people))"
   ]
  },
  {
   "cell_type": "markdown",
   "id": "bcc01f3b",
   "metadata": {},
   "source": [
    "There are some false negatives in there (\"Django\" is not a person), and some names that start with \"Thanks\", so we can remove those manually: \n"
   ]
  },
  {
   "cell_type": "code",
   "execution_count": 44,
   "id": "6a0aace8",
   "metadata": {},
   "outputs": [
    {
     "name": "stdout",
     "output_type": "stream",
     "text": [
      "People: 72\n",
      "Adam Johnson\n",
      "Adam Zimmerman\n",
      "Alan Crosswell\n",
      "Alan Ryan\n",
      "Allen Jonathan David\n",
      "Andreas Pelme\n",
      "Andrew Chen Wang\n",
      "Antonio Terceiro\n",
      "Arsalan Ghassemi\n",
      "Baptiste Mispelon\n",
      "Ben Picolo\n",
      "Benjamin Locher\n",
      "Carlton Gibson\n",
      "Changed DATE_FORMAT\n",
      "Chris Bailey\n",
      "Chris Jerdonek\n",
      "Chris Lee\n",
      "Claude Paroz\n",
      "Daniel Swain\n",
      "Danylo Dmytriiev\n",
      "David Briggs\n",
      "David Glenck\n",
      "David Smith\n",
      "David Wyde\n",
      "Dennis Brinkrolf\n",
      "Eugene Kovalev\n",
      "Exact\n",
      "Ferran Jovell\n",
      "Fixed CheckConstraint\n",
      "Fixed QuerySet\n",
      "Florian Apolloner\n",
      "Hannes Ljungberg\n",
      "Hervé Le Roy\n",
      "Jacob Davis\n",
      "Jacob Moore\n",
      "Jacob Walls\n",
      "Jakob Köhler\n",
      "Johnny Metz\n",
      "Jonny Park\n",
      "Joseph Abrahams\n",
      "Keryn Knight\n",
      "Kevin Marsh\n",
      "Lucidot\n",
      "Mariusz Felisiak\n",
      "Matt Hanson\n",
      "Matt Westcott\n",
      "Michal Čihař\n",
      "Motoyasu Saburi\n",
      "Ndlovu\n",
      "Nick Pope\n",
      "OutOfFocus4\n",
      "Paolo Melchiorre\n",
      "Paul\n",
      "Preston Elder\n",
      "Pēteris Caune\n",
      "Refs\n",
      "Rick Yang\n",
      "Sergey Fedoseev\n",
      "Shai Berger\n",
      "Silvio Gutierrez\n",
      "Simon Charette\n",
      "Sjoerd Job Postmus\n",
      "Sourav Kumar\n",
      "Splunk\n",
      "Takuto Yoshikai\n",
      "Terence Honles\n",
      "Thibaud Colas\n",
      "Tim Graham\n",
      "Tim McCurrach\n",
      "Tobias Bengfort\n",
      "Todor Velichkov\n",
      "Tom Carrick\n"
     ]
    }
   ],
   "source": [
    "for i, person in enumerate(people):\n",
    "    \n",
    "    # Trim out word set\n",
    "    people[i] = person.replace(\"Thanks \", \"\")\n",
    "    \n",
    "    # Remove word set\n",
    "    word_set = [\"Fixed\", \"Changed\", \"Django\", \"Matches\", \"Redis\", \"Catalan\", \"Exact\", \n",
    "                \"Ref\", \"Sphinx\", \"Splunk\", \"Moved\", \"Month\", \"Python\", \"Switched\"]\n",
    "    for phrase in word_set:\n",
    "        if phrase in person:\n",
    "            people.pop(i)\n",
    "    \n",
    "\n",
    "people = unique(people)\n",
    "print(\"People:\", len(people))\n",
    "print(\"\\n\".join(people))"
   ]
  },
  {
   "cell_type": "markdown",
   "id": "a7cecf9d",
   "metadata": {},
   "source": [
    "But now we have a disperate set, compared to the original list. \n"
   ]
  },
  {
   "cell_type": "code",
   "execution_count": 45,
   "id": "226a9468",
   "metadata": {},
   "outputs": [
    {
     "name": "stdout",
     "output_type": "stream",
     "text": [
      "Regex: 64 vs NLTK: 72\n",
      "\n",
      "bcail\n",
      "lind-marcus\n",
      "Paul in 't Hout\n",
      "TakuYoshikai (Aeye Security Lab)\n",
      "TengMA(@te3t123)\n",
      "Theodore Ni\n",
      "Tobias Beng\n",
      "yakimka\n",
      "אורי\n",
      "Thanks Splunk team: Preston Elder, Jacob Davis, Jacob Moore, Matt Hanson, David Briggs, and a security researcher: Danylo Dmytriiev (DDV_UA) for the report. \n",
      "Thanks to Adam Johnson, Claude Paroz, Keryn Knight, and Thibaud Colas for review. \n",
      "Thanks Florian Apolloner, Chris Jerdonek, Hannes Ljungberg, Nick Pope, and Mariusz Felisiak for reviews. \n"
     ]
    }
   ],
   "source": [
    "print(\"Regex:\", len(security_thanks), \"vs NLTK:\", len(people))\n",
    "for person in security_thanks:\n",
    "    if person not in people:\n",
    "        print(person)"
   ]
  },
  {
   "cell_type": "markdown",
   "id": "9c81b397",
   "metadata": {},
   "source": [
    "So instead, let's just use NLTK on those thanks messages we originally deemed too complex. \n"
   ]
  },
  {
   "cell_type": "code",
   "execution_count": 46,
   "id": "75c3cf86",
   "metadata": {},
   "outputs": [
    {
     "name": "stdout",
     "output_type": "stream",
     "text": [
      "People: 70\n",
      "\n",
      "Adam Johnson\n",
      "Adam Zimmerman\n",
      "Alan Crosswell\n",
      "Alan Ryan\n",
      "Allen Jonathan David\n",
      "Andrew Chen Wang\n",
      "Antonio Terceiro\n",
      "Arsalan Ghassemi\n",
      "Baptiste Mispelon\n",
      "bcail\n",
      "Ben Picolo\n",
      "Benjamin Locher\n",
      "Chris Bailey\n",
      "Chris Jerdonek\n",
      "Chris Lee\n",
      "Claude Paroz\n",
      "Daniel Swain\n",
      "Danylo Dmytriiev\n",
      "David Briggs\n",
      "David Glenck\n",
      "David Smith\n",
      "David Wyde\n",
      "Dennis Brinkrolf\n",
      "Eugene Kovalev\n",
      "Ferran Jovell\n",
      "Florian Apolloner\n",
      "Hannes Ljungberg\n",
      "Hervé Le Roy\n",
      "Jacob Davis\n",
      "Jacob Moore\n",
      "Jacob Walls\n",
      "Jakob Köhler\n",
      "Johnny Metz\n",
      "Jonny Park\n",
      "Joseph Abrahams\n",
      "Keryn Knight\n",
      "Kevin Marsh\n",
      "lind-marcus\n",
      "Lucidot\n",
      "Mariusz Felisiak\n",
      "Matt Hanson\n",
      "Matt Westcott\n",
      "Michal Čihař\n",
      "Motoyasu Saburi\n",
      "Nick Pope\n",
      "OutOfFocus4\n",
      "Paolo Melchiorre\n",
      "Paul in 't Hout\n",
      "Preston Elder\n",
      "Pēteris Caune\n",
      "Rick Yang\n",
      "Sergey Fedoseev\n",
      "Shai Berger\n",
      "Silvio Gutierrez\n",
      "Simon Charette\n",
      "Sjoerd Job Postmus\n",
      "Sourav Kumar\n",
      "TakuYoshikai (Aeye Security Lab)\n",
      "TengMA(@te3t123)\n",
      "Terence Honles\n",
      "Theodore Ni\n",
      "Thibaud Colas\n",
      "Tim Graham\n",
      "Tim McCurrach\n",
      "Tobias Beng\n",
      "Todor Velichkov\n",
      "Tom Carrick\n",
      "yakimka\n",
      "אורי\n"
     ]
    }
   ],
   "source": [
    "complex_thanks = []\n",
    "people = []\n",
    "\n",
    "# split out our thanks to parse and keep\n",
    "for person in security_thanks:\n",
    "    if \",\" in person:\n",
    "        complex_thanks.append(person)\n",
    "    else:\n",
    "        people.append(person)\n",
    "        \n",
    "for thank in complex_thanks:\n",
    "    people += get_people(thank)\n",
    "    \n",
    "people = unique(people)\n",
    "for i, person in enumerate(people):\n",
    "    if person in word_set:\n",
    "        people.pop(i)\n",
    "\n",
    "print(\"People:\", len(people))\n",
    "print(\"\\n\".join(people))"
   ]
  },
  {
   "cell_type": "markdown",
   "id": "30c92f6e",
   "metadata": {},
   "source": [
    "We'll use this version of as the list of people who contributed to security fixes. "
   ]
  },
  {
   "cell_type": "code",
   "execution_count": 75,
   "id": "7c6d8051",
   "metadata": {},
   "outputs": [],
   "source": [
    "security_thanks = people"
   ]
  },
  {
   "cell_type": "markdown",
   "id": "a638ecf2",
   "metadata": {},
   "source": [
    "### Transifex\n",
    "\n",
    "Another dataset we have is the transifex data. \n",
    "\n",
    "For each release, a new branch is created, for example https://github.com/django/django-docs-translations/tree/stable/4.1.x\n",
    "\n",
    "If we use this repo, we can go through the commits since the last release and check for updates. \n",
    "\n",
    "However, these updates only include authors by year. \n",
    "\n",
    "For example, from a [recent commit](https://github.com/django/django-docs-translations/commit/ce809e91c8d8ade2de7982aa0014e9d1e77c1aa9#diff-7568ed75ebcd72f094cb0b97517e4f871aa26ba70271ada23ec71dd603273398R8):\n",
    "\n",
    "```\n",
    "-# Claude Paroz <claude@2xlibre.net>, 2013-2021\n",
    "+# Claude Paroz <claude@2xlibre.net>, 2013-2022\n",
    "```\n",
    "\n",
    "This repo is based on output from a utility script [`manage_translations.py`](https://github.com/django/django-docs-translations/blob/stable/4.1.x/manage_translations.py) which itself relies on the package `transifex-client`.\n"
   ]
  },
  {
   "cell_type": "markdown",
   "id": "8cce5c8e",
   "metadata": {},
   "source": [
    "`#TODO(glasnt) work out if the new transifex API can be used to pull authors in a better way`"
   ]
  },
  {
   "cell_type": "markdown",
   "id": "7f61c0f7",
   "metadata": {},
   "source": [
    "A naive way of getting the translators for the branch is _very roughly_ map to the year that most development happened, and get any authors tagged with that year. \n",
    "\n",
    "Roughly: `git grep \"^#\"  | grep 2022 | cut -d\"#\" -f2 | cut -d',' -f1  | cut -d'<' -f1 | sort -n | uniq`"
   ]
  },
  {
   "cell_type": "code",
   "execution_count": 50,
   "id": "6bd266a8",
   "metadata": {},
   "outputs": [
    {
     "name": "stdout",
     "output_type": "stream",
     "text": [
      "fatal: destination path 'django-docs-translations' already exists and is not an empty directory.\r\n"
     ]
    }
   ],
   "source": [
    "!git clone -b stable/{target_release}.x https://github.com/django/django-docs-translations"
   ]
  },
  {
   "cell_type": "code",
   "execution_count": 56,
   "id": "a9a6f50a",
   "metadata": {},
   "outputs": [
    {
     "name": "stdout",
     "output_type": "stream",
     "text": [
      "Translators: 42\n",
      "0d21a39e384d88c2313b89b5042c04cb\n",
      "Albert Lei\n",
      "Bertalan Ivan\n",
      "Claude Paroz\n",
      "Darek505\n",
      "decyma\n",
      "e4db27214f7e7544f2022c647b585925_bb0e321\n",
      "eitaro\n",
      "Fery Setiawan\n",
      "Giacomo M\n",
      "Gyeongjun Paik\n",
      "Hiroki Nakayama\n",
      "Ikemoto Hideki\n",
      "Jiawei Xu\n",
      "Juna Salviati\n",
      "Lu\n",
      "Maciej Olko\n",
      "Marco De Paoli\n",
      "Marco Richetta\n",
      "Mariusz Felisiak\n",
      "Mirco Grillo\n",
      "Nicola Guglielmi\n",
      "Paolo Melchiorre\n",
      "peiji liu\n",
      "seungho\n",
      "Stefan Ocetkiewicz\n",
      "Taichi Taniguchi\n",
      "Todd Kasaki\n",
      "Tomaz Marcelino Cunha Neto\n",
      "Toru Ohno\n",
      "Veoco\n",
      "Wu Xiangfeng\n",
      "xiaqi516\n",
      "yeongkwang\n",
      "Youngjun Lee\n",
      "Youxi Luo\n",
      "汪心禾\n",
      "龙虎义\n",
      "문채원\n",
      "이우현\n",
      "이재준\n",
      "정환 윤\n"
     ]
    }
   ],
   "source": [
    "import re\n",
    "from pathlib import Path\n",
    "folder = Path.cwd() / \"django-docs-translations\"\n",
    "\n",
    "year = \"2022\"\n",
    "\n",
    "translators = []\n",
    "\n",
    "for file in folder.glob(\"**/*.po\"):\n",
    "    with open(file) as f: \n",
    "        for line in f.readlines():\n",
    "            if re.search(f\"^#(.*){year}\", line):\n",
    "                translators.append(line.split(\",\")[0])\n",
    "\n",
    "for i, author in enumerate(translators):\n",
    "    translators[i] = author.replace(\"#\",\"\").strip().split(\"<\")[0]\n",
    "                \n",
    "translator_thanks = unique(translators)\n",
    "\n",
    "\n",
    "print(\"Translators:\", len(translator_thanks))\n",
    "print(\"\\n\".join(translator_thanks))"
   ]
  },
  {
   "cell_type": "markdown",
   "id": "fda8fcc9",
   "metadata": {},
   "source": [
    "# Analysis <a class=\"anchor\" id=\"analysis\"></a>\n",
    " \n",
    " \n",
    "Our analysis is going to be based on our [assumptions](#assumptions). \n",
    "\n",
    "Some other assumptions from other projects: \n",
    "\n",
    " * https://github.com/cncf/devstats/blob/master/README_K8s.md \"Contribution: a review, comment, commit, issue or PR\""
   ]
  },
  {
   "cell_type": "code",
   "execution_count": 62,
   "id": "d73abc95",
   "metadata": {},
   "outputs": [],
   "source": [
    "%%capture\n",
    "import sys\n",
    "!{sys.executable} -m pip install \"rich[jupyter]\""
   ]
  },
  {
   "cell_type": "markdown",
   "id": "14461d0b",
   "metadata": {},
   "source": [
    "and convert our lists to DataFrames"
   ]
  },
  {
   "cell_type": "code",
   "execution_count": 3,
   "id": "5bda9f93",
   "metadata": {},
   "outputs": [
    {
     "ename": "NameError",
     "evalue": "name 'git_commits' is not defined",
     "output_type": "error",
     "traceback": [
      "\u001b[0;31m---------------------------------------------------------------------------\u001b[0m",
      "\u001b[0;31mNameError\u001b[0m                                 Traceback (most recent call last)",
      "Cell \u001b[0;32mIn[3], line 3\u001b[0m\n\u001b[1;32m      1\u001b[0m \u001b[38;5;28;01mimport\u001b[39;00m \u001b[38;5;21;01mpandas\u001b[39;00m \u001b[38;5;28;01mas\u001b[39;00m \u001b[38;5;21;01mpd\u001b[39;00m\n\u001b[0;32m----> 3\u001b[0m git_commits_df \u001b[38;5;241m=\u001b[39m pd\u001b[38;5;241m.\u001b[39mDataFrame(\u001b[43mgit_commits\u001b[49m)\n\u001b[1;32m      4\u001b[0m \u001b[38;5;28mprint\u001b[39m(\u001b[38;5;124m\"\u001b[39m\u001b[38;5;124mGit Commit keys:\u001b[39m\u001b[38;5;124m\"\u001b[39m, \u001b[38;5;124m\"\u001b[39m\u001b[38;5;124m, \u001b[39m\u001b[38;5;124m\"\u001b[39m\u001b[38;5;241m.\u001b[39mjoin(\u001b[38;5;28mlist\u001b[39m(git_commits_df\u001b[38;5;241m.\u001b[39mkeys())))\n\u001b[1;32m      6\u001b[0m git_trac_links_df \u001b[38;5;241m=\u001b[39m pd\u001b[38;5;241m.\u001b[39mDataFrame(git_trac_links)\n",
      "\u001b[0;31mNameError\u001b[0m: name 'git_commits' is not defined"
     ]
    }
   ],
   "source": [
    "import pandas as pd\n",
    "\n",
    "git_commits_df = pd.DataFrame(git_commits)\n",
    "print(\"Git Commit keys:\", \", \".join(list(git_commits_df.keys())))\n",
    "\n",
    "git_trac_links_df = pd.DataFrame(git_trac_links)\n",
    "pull_requests_df = pd.DataFrame(pull_requests)\n",
    "print(\"Pull Request keys:\", \", \".join(list(pull_requests_df.keys())))\n",
    "pull_request_comments_df = pd.DataFrame(pr_comments)\n",
    "print(\"Pull Request Comments keys:\", \", \".join(list(pull_request_comments_df.keys())))\n",
    "trac_tickets_df = pd.DataFrame(trac_tickets)\n",
    "print(\"Trac Ticket keys:\", \", \".join(list(trac_tickets_df.keys())))\n",
    "trac_ticket_comments_df = pd.DataFrame(trac_ticket_comments)\n",
    "print(\"Trac Ticket Comments keys:\", \", \".join(list(trac_ticket_comments_df.keys())))"
   ]
  },
  {
   "cell_type": "markdown",
   "id": "8e319b95",
   "metadata": {},
   "source": [
    "For starters, who are our Git Commit Authors:"
   ]
  },
  {
   "cell_type": "code",
   "execution_count": 74,
   "id": "6200cf90",
   "metadata": {
    "scrolled": true
   },
   "outputs": [
    {
     "data": {
      "text/html": [
       "<pre style=\"white-space:pre;overflow-x:auto;line-height:normal;font-family:Menlo,'DejaVu Sans Mono',consolas,'Courier New',monospace\"><span style=\"font-style: italic\">   Git Committers (limit 10)   </span>\n",
       "┏━━━━━━━━━━━━━━━━━━━┳━━━━━━━━━┓\n",
       "┃<span style=\"font-weight: bold\"> Name              </span>┃<span style=\"font-weight: bold\"> Commits </span>┃\n",
       "┡━━━━━━━━━━━━━━━━━━━╇━━━━━━━━━┩\n",
       "│ Mariusz Felisiak  │ 205     │\n",
       "│ Carlton Gibson    │ 60      │\n",
       "│ Adam Johnson      │ 40      │\n",
       "│ David Smith       │ 25      │\n",
       "│ Nick Pope         │ 24      │\n",
       "│ Jacob Walls       │ 24      │\n",
       "│ Keryn Knight      │ 23      │\n",
       "│ David Wobrock     │ 20      │\n",
       "│ Claude Paroz      │ 19      │\n",
       "│ Baptiste Mispelon │ 18      │\n",
       "└───────────────────┴─────────┘\n",
       "</pre>\n"
      ],
      "text/plain": [
       "\u001b[3m   Git Committers (limit 10)   \u001b[0m\n",
       "┏━━━━━━━━━━━━━━━━━━━┳━━━━━━━━━┓\n",
       "┃\u001b[1m \u001b[0m\u001b[1mName             \u001b[0m\u001b[1m \u001b[0m┃\u001b[1m \u001b[0m\u001b[1mCommits\u001b[0m\u001b[1m \u001b[0m┃\n",
       "┡━━━━━━━━━━━━━━━━━━━╇━━━━━━━━━┩\n",
       "│ Mariusz Felisiak  │ 205     │\n",
       "│ Carlton Gibson    │ 60      │\n",
       "│ Adam Johnson      │ 40      │\n",
       "│ David Smith       │ 25      │\n",
       "│ Nick Pope         │ 24      │\n",
       "│ Jacob Walls       │ 24      │\n",
       "│ Keryn Knight      │ 23      │\n",
       "│ David Wobrock     │ 20      │\n",
       "│ Claude Paroz      │ 19      │\n",
       "│ Baptiste Mispelon │ 18      │\n",
       "└───────────────────┴─────────┘\n"
      ]
     },
     "metadata": {},
     "output_type": "display_data"
    }
   ],
   "source": [
    "from collections import Counter\n",
    "\n",
    "from rich.console import Console\n",
    "from rich.table import Table\n",
    "console = Console()\n",
    "\n",
    "\n",
    "def print_table(table_name=\"Table\", columns=[\"a\", \"b\"], data=[[1,2],[3,4]], limit=None):\n",
    "    table = Table(title=table_name)\n",
    "    for col in columns:\n",
    "        table.add_column(col)\n",
    "    if limit:\n",
    "        data = data[:limit]\n",
    "        table.title += f\" (limit {limit})\"\n",
    "    for x in data:\n",
    "        table.add_row(*list([str(y) for y in x]))\n",
    "\n",
    "    console.print(table)\n",
    "\n",
    "    \n",
    "gc_authors = Counter([g[\"author\"] for g in git_commits])\n",
    "print_table(\"Git Committers\", [\"Name\", \"Commits\"], gc_authors.most_common(), limit=10)\n"
   ]
  },
  {
   "cell_type": "markdown",
   "id": "da91a01a",
   "metadata": {},
   "source": [
    "And who are our Pull Request Authors:"
   ]
  },
  {
   "cell_type": "code",
   "execution_count": 75,
   "id": "0283abbe",
   "metadata": {
    "scrolled": true
   },
   "outputs": [
    {
     "data": {
      "text/html": [
       "<pre style=\"white-space:pre;overflow-x:auto;line-height:normal;font-family:Menlo,'DejaVu Sans Mono',consolas,'Courier New',monospace\"><span style=\"font-style: italic\">  Pull Request Authors (limit 10)  </span>\n",
       "┏━━━━━━━━━━━━━━━━━┳━━━━━━━━━━━━━━━┓\n",
       "┃<span style=\"font-weight: bold\"> username        </span>┃<span style=\"font-weight: bold\"> Pull Requests </span>┃\n",
       "┡━━━━━━━━━━━━━━━━━╇━━━━━━━━━━━━━━━┩\n",
       "│ felixxm         │ 145           │\n",
       "│ smithdc1        │ 37            │\n",
       "│ carltongibson   │ 36            │\n",
       "│ claudep         │ 27            │\n",
       "│ jacobtylerwalls │ 20            │\n",
       "│ adamchainz      │ 18            │\n",
       "│ kezabelle       │ 18            │\n",
       "│ mgaligniana     │ 16            │\n",
       "│ charettes       │ 15            │\n",
       "│ David-Wobrock   │ 15            │\n",
       "└─────────────────┴───────────────┘\n",
       "</pre>\n"
      ],
      "text/plain": [
       "\u001b[3m  Pull Request Authors (limit 10)  \u001b[0m\n",
       "┏━━━━━━━━━━━━━━━━━┳━━━━━━━━━━━━━━━┓\n",
       "┃\u001b[1m \u001b[0m\u001b[1musername       \u001b[0m\u001b[1m \u001b[0m┃\u001b[1m \u001b[0m\u001b[1mPull Requests\u001b[0m\u001b[1m \u001b[0m┃\n",
       "┡━━━━━━━━━━━━━━━━━╇━━━━━━━━━━━━━━━┩\n",
       "│ felixxm         │ 145           │\n",
       "│ smithdc1        │ 37            │\n",
       "│ carltongibson   │ 36            │\n",
       "│ claudep         │ 27            │\n",
       "│ jacobtylerwalls │ 20            │\n",
       "│ adamchainz      │ 18            │\n",
       "│ kezabelle       │ 18            │\n",
       "│ mgaligniana     │ 16            │\n",
       "│ charettes       │ 15            │\n",
       "│ David-Wobrock   │ 15            │\n",
       "└─────────────────┴───────────────┘\n"
      ]
     },
     "metadata": {},
     "output_type": "display_data"
    }
   ],
   "source": [
    "pr_authors = Counter([p[\"user\"] for p in pull_requests])\n",
    "print_table(\"Pull Request Authors\", [\"username\", \"Pull Requests\"], pr_authors.most_common(), limit=10)"
   ]
  },
  {
   "cell_type": "markdown",
   "id": "90996511",
   "metadata": {},
   "source": [
    "This is where things start to break, because we have Names and Aliases. \n",
    "\n",
    "Git works by `user.name` and `user.email` (you may be familiar with setting this up yourself in your local `git`).\n",
    "\n",
    "GitHub works by way of usernames, and maps commits to users by the email addresses associated with the GitHub account.\n",
    "\n",
    "You can use the GitHub API to get someone's GitHub display name from their email, but this may not match the name from their git commits. \n",
    "\n",
    "So, let's start by setting up some helper functions, then grabbing the data for all the users we know about. "
   ]
  },
  {
   "cell_type": "code",
   "execution_count": 85,
   "id": "bc3c9256",
   "metadata": {},
   "outputs": [
    {
     "data": {
      "application/vnd.jupyter.widget-view+json": {
       "model_id": "6e0fa35dd0fa4508bed5d67a4fc089f9",
       "version_major": 2,
       "version_minor": 0
      },
      "text/plain": [
       "  0%|          | 0/704 [00:00<?, ?it/s]"
      ]
     },
     "metadata": {},
     "output_type": "display_data"
    }
   ],
   "source": [
    "github_name = {}\n",
    "\n",
    "def get_github_user(user):\n",
    "    \"\"\"For a GitHub username, get their name.\n",
    "    NOTE(glasnt): debugging details have been added here to work out source of \n",
    "    missing data, rather than trying to use None or N/A, etc. \n",
    "    \"\"\"\n",
    "    try:\n",
    "        data = github_api(f\"/users/{user}\")\n",
    "    except ValueError:\n",
    "        return user + \" [not found on GitHub]\"\n",
    "    if data[\"name\"] == None:\n",
    "        return user + \" [no GitHub name]\"\n",
    "    return data[\"name\"]\n",
    "\n",
    "\n",
    "users = [u[\"user\"] for u in pull_requests] + [u[\"user\"] for u in pr_comments] + [u[\"reporter\"] for u in trac_tickets ] +[u[\"name\"] for u in trac_ticket_comments]\n",
    "\n",
    "for user in tqdm(unique(users)):\n",
    "    github_name[user] = get_github_user(user)"
   ]
  },
  {
   "cell_type": "markdown",
   "id": "30a7314d",
   "metadata": {},
   "source": [
    "It'll be also useful later on to have a reversed dict, so we can either search for names by username, or usernames by name."
   ]
  },
  {
   "cell_type": "code",
   "execution_count": 77,
   "id": "2b857ecc",
   "metadata": {
    "scrolled": true
   },
   "outputs": [
    {
     "name": "stdout",
     "output_type": "stream",
     "text": [
      "GitHub users: 697\n"
     ]
    },
    {
     "data": {
      "text/html": [
       "<pre style=\"white-space:pre;overflow-x:auto;line-height:normal;font-family:Menlo,'DejaVu Sans Mono',consolas,'Courier New',monospace\"><span style=\"font-style: italic\">        GitHub Users (limit 10)        </span>\n",
       "┏━━━━━━━━━━━━━━━━━━━━━┳━━━━━━━━━━━━━━━┓\n",
       "┃<span style=\"font-weight: bold\"> Username            </span>┃<span style=\"font-weight: bold\"> Name          </span>┃\n",
       "┡━━━━━━━━━━━━━━━━━━━━━╇━━━━━━━━━━━━━━━┩\n",
       "│ Joshua Cornutt      │ 01000101      │\n",
       "│ Theofilos Alexiou   │ 2019342a      │\n",
       "│ Adonys Alea Boffill │ aaboffill     │\n",
       "│ Aapo Rista          │ aapris        │\n",
       "│ Aymeric Augustin    │ aaugustin     │\n",
       "│ Daniyal Abbasi      │ abbasidaniyal │\n",
       "│ Abhyudai            │ abhiabhi94    │\n",
       "│ Abhijeet            │ abhijeetviswa │\n",
       "│ Aaron Chong         │ acjh          │\n",
       "│ Adam Johnson        │ adamchainz    │\n",
       "└─────────────────────┴───────────────┘\n",
       "</pre>\n"
      ],
      "text/plain": [
       "\u001b[3m        GitHub Users (limit 10)        \u001b[0m\n",
       "┏━━━━━━━━━━━━━━━━━━━━━┳━━━━━━━━━━━━━━━┓\n",
       "┃\u001b[1m \u001b[0m\u001b[1mUsername           \u001b[0m\u001b[1m \u001b[0m┃\u001b[1m \u001b[0m\u001b[1mName         \u001b[0m\u001b[1m \u001b[0m┃\n",
       "┡━━━━━━━━━━━━━━━━━━━━━╇━━━━━━━━━━━━━━━┩\n",
       "│ Joshua Cornutt      │ 01000101      │\n",
       "│ Theofilos Alexiou   │ 2019342a      │\n",
       "│ Adonys Alea Boffill │ aaboffill     │\n",
       "│ Aapo Rista          │ aapris        │\n",
       "│ Aymeric Augustin    │ aaugustin     │\n",
       "│ Daniyal Abbasi      │ abbasidaniyal │\n",
       "│ Abhyudai            │ abhiabhi94    │\n",
       "│ Abhijeet            │ abhijeetviswa │\n",
       "│ Aaron Chong         │ acjh          │\n",
       "│ Adam Johnson        │ adamchainz    │\n",
       "└─────────────────────┴───────────────┘\n"
      ]
     },
     "metadata": {},
     "output_type": "display_data"
    }
   ],
   "source": [
    "# Code golf :D\n",
    "github_user = {v: k for k, v in github_name.items()}\n",
    "\n",
    "print(\"GitHub users:\", len(github_user))\n",
    "print_table(\"GitHub Users\", [\"Username\", \"Name\"], list(github_user.items()), limit=10)\n"
   ]
  },
  {
   "cell_type": "markdown",
   "id": "a9cb9bee",
   "metadata": {},
   "source": [
    "## Sampling by User\n",
    "\n",
    "Using all this data, let's take some sample users and check all their contributions. \n",
    "\n",
    "Keeping in mind the set of data we have, and the mapping of identities \n",
    "\n",
    "```\n",
    "git_commits author\n",
    "pull_requests user->gname\n",
    "pr_comments user->gname\n",
    "trac_tickets reporter->gname*\n",
    "trac_ticket_comments name->gname\n",
    "security_thanks (name)\n",
    "translators (name)\n",
    "```\n",
    "\n",
    "`*` Edge case: Trac accepts both GitHub logins and DjangoProject logins, so these may not match."
   ]
  },
  {
   "cell_type": "code",
   "execution_count": 78,
   "id": "18bebc55",
   "metadata": {},
   "outputs": [
    {
     "data": {
      "text/html": [
       "<pre style=\"white-space:pre;overflow-x:auto;line-height:normal;font-family:Menlo,'DejaVu Sans Mono',consolas,'Courier New',monospace\"><span style=\"font-style: italic\">    Mariusz Felisiak (felixxm)    </span>\n",
       "┏━━━━━━━━━━━━━━━━━━━━━━━━┳━━━━━━━┓\n",
       "┃<span style=\"font-weight: bold\"> Contribution           </span>┃<span style=\"font-weight: bold\"> Count </span>┃\n",
       "┡━━━━━━━━━━━━━━━━━━━━━━━━╇━━━━━━━┩\n",
       "│ Git Commits            │ 205   │\n",
       "│ Pull Requests Authored │ 145   │\n",
       "│ Pull Request comments  │ 2163  │\n",
       "│ Trac Tickets created   │ 27    │\n",
       "│ Trac Ticket comments   │ 2908  │\n",
       "│ Security thanks        │ 1     │\n",
       "│ Translation thanks     │ 1     │\n",
       "└────────────────────────┴───────┘\n",
       "</pre>\n"
      ],
      "text/plain": [
       "\u001b[3m    Mariusz Felisiak (felixxm)    \u001b[0m\n",
       "┏━━━━━━━━━━━━━━━━━━━━━━━━┳━━━━━━━┓\n",
       "┃\u001b[1m \u001b[0m\u001b[1mContribution          \u001b[0m\u001b[1m \u001b[0m┃\u001b[1m \u001b[0m\u001b[1mCount\u001b[0m\u001b[1m \u001b[0m┃\n",
       "┡━━━━━━━━━━━━━━━━━━━━━━━━╇━━━━━━━┩\n",
       "│ Git Commits            │ 205   │\n",
       "│ Pull Requests Authored │ 145   │\n",
       "│ Pull Request comments  │ 2163  │\n",
       "│ Trac Tickets created   │ 27    │\n",
       "│ Trac Ticket comments   │ 2908  │\n",
       "│ Security thanks        │ 1     │\n",
       "│ Translation thanks     │ 1     │\n",
       "└────────────────────────┴───────┘\n"
      ]
     },
     "metadata": {},
     "output_type": "display_data"
    },
    {
     "data": {
      "text/html": [
       "<pre style=\"white-space:pre;overflow-x:auto;line-height:normal;font-family:Menlo,'DejaVu Sans Mono',consolas,'Courier New',monospace\"><span style=\"font-style: italic\">  Carlton Gibson (carltongibson)  </span>\n",
       "┏━━━━━━━━━━━━━━━━━━━━━━━━┳━━━━━━━┓\n",
       "┃<span style=\"font-weight: bold\"> Contribution           </span>┃<span style=\"font-weight: bold\"> Count </span>┃\n",
       "┡━━━━━━━━━━━━━━━━━━━━━━━━╇━━━━━━━┩\n",
       "│ Git Commits            │ 60    │\n",
       "│ Pull Requests Authored │ 36    │\n",
       "│ Pull Request comments  │ 493   │\n",
       "│ Trac Tickets created   │ 8     │\n",
       "│ Trac Ticket comments   │ 520   │\n",
       "│ Security thanks        │ 0     │\n",
       "│ Translation thanks     │ 0     │\n",
       "└────────────────────────┴───────┘\n",
       "</pre>\n"
      ],
      "text/plain": [
       "\u001b[3m  Carlton Gibson (carltongibson)  \u001b[0m\n",
       "┏━━━━━━━━━━━━━━━━━━━━━━━━┳━━━━━━━┓\n",
       "┃\u001b[1m \u001b[0m\u001b[1mContribution          \u001b[0m\u001b[1m \u001b[0m┃\u001b[1m \u001b[0m\u001b[1mCount\u001b[0m\u001b[1m \u001b[0m┃\n",
       "┡━━━━━━━━━━━━━━━━━━━━━━━━╇━━━━━━━┩\n",
       "│ Git Commits            │ 60    │\n",
       "│ Pull Requests Authored │ 36    │\n",
       "│ Pull Request comments  │ 493   │\n",
       "│ Trac Tickets created   │ 8     │\n",
       "│ Trac Ticket comments   │ 520   │\n",
       "│ Security thanks        │ 0     │\n",
       "│ Translation thanks     │ 0     │\n",
       "└────────────────────────┴───────┘\n"
      ]
     },
     "metadata": {},
     "output_type": "display_data"
    },
    {
     "data": {
      "text/html": [
       "<pre style=\"white-space:pre;overflow-x:auto;line-height:normal;font-family:Menlo,'DejaVu Sans Mono',consolas,'Courier New',monospace\"><span style=\"font-style: italic\">    Katie McLaughlin (glasnt)     </span>\n",
       "┏━━━━━━━━━━━━━━━━━━━━━━━━┳━━━━━━━┓\n",
       "┃<span style=\"font-weight: bold\"> Contribution           </span>┃<span style=\"font-weight: bold\"> Count </span>┃\n",
       "┡━━━━━━━━━━━━━━━━━━━━━━━━╇━━━━━━━┩\n",
       "│ Git Commits            │ 0     │\n",
       "│ Pull Requests Authored │ 0     │\n",
       "│ Pull Request comments  │ 4     │\n",
       "│ Trac Tickets created   │ 0     │\n",
       "│ Trac Ticket comments   │ 0     │\n",
       "│ Security thanks        │ 0     │\n",
       "│ Translation thanks     │ 0     │\n",
       "└────────────────────────┴───────┘\n",
       "</pre>\n"
      ],
      "text/plain": [
       "\u001b[3m    Katie McLaughlin (glasnt)     \u001b[0m\n",
       "┏━━━━━━━━━━━━━━━━━━━━━━━━┳━━━━━━━┓\n",
       "┃\u001b[1m \u001b[0m\u001b[1mContribution          \u001b[0m\u001b[1m \u001b[0m┃\u001b[1m \u001b[0m\u001b[1mCount\u001b[0m\u001b[1m \u001b[0m┃\n",
       "┡━━━━━━━━━━━━━━━━━━━━━━━━╇━━━━━━━┩\n",
       "│ Git Commits            │ 0     │\n",
       "│ Pull Requests Authored │ 0     │\n",
       "│ Pull Request comments  │ 4     │\n",
       "│ Trac Tickets created   │ 0     │\n",
       "│ Trac Ticket comments   │ 0     │\n",
       "│ Security thanks        │ 0     │\n",
       "│ Translation thanks     │ 0     │\n",
       "└────────────────────────┴───────┘\n"
      ]
     },
     "metadata": {},
     "output_type": "display_data"
    }
   ],
   "source": [
    "def user_contributions(user):\n",
    "    \n",
    "    if user not in github_name.keys():\n",
    "        return \"User not found.\"\n",
    "    \n",
    "    name = github_name[user]\n",
    "    \n",
    "    title=f\"{name} ({user})\"\n",
    "    columns = [\"Contribution\", \"Count\"]\n",
    "    data = []\n",
    "    \n",
    "    gcs = [g for g in git_commits if g[\"author\"] == name]\n",
    "    data.append([\"Git Commits\", str(len(gcs))])\n",
    "    \n",
    "    prs = [p for p in pull_requests if p[\"user\"] == user]\n",
    "    data.append([\"Pull Requests Authored\", str(len(prs))])\n",
    "    \n",
    "    prcs = [p for p in pr_comments if p[\"user\"] == user]\n",
    "    data.append([\"Pull Request comments\",  str(len(prcs))])\n",
    "    \n",
    "    tts = [t for t in trac_tickets if t[\"reporter\"] == user]\n",
    "    data.append([\"Trac Tickets created\",  str(len(tts))])\n",
    "    \n",
    "    ttcs = [t for t in trac_ticket_comments if t[\"name\"] == user]\n",
    "    data.append([\"Trac Ticket comments\",  str(len(ttcs))])\n",
    "    \n",
    "    st = [s for s in security_thanks if s == name]\n",
    "    data.append([\"Security thanks\", str(len(st))])\n",
    "    \n",
    "    tt = [t for t in translator_thanks if t == name]\n",
    "    data.append([\"Translation thanks\", str(len(tt))])\n",
    "             \n",
    "    print_table(title, columns, data)\n",
    "\n",
    "\n",
    "# Mariusz is a Django Fellow, and has a contribution of every type in 4.1, so is a good test case.\n",
    "user_contributions(\"felixxm\")\n",
    "\n",
    "# Carlton is also a Fellow, so probably has a bunch of data. \n",
    "user_contributions(\"carltongibson\")\n",
    "\n",
    "# And our author, just for fun.\n",
    "user_contributions(\"glasnt\")"
   ]
  },
  {
   "cell_type": "markdown",
   "id": "b043dd90",
   "metadata": {},
   "source": [
    "We can also collate all the contribution types by user. \n",
    "\n",
    "Important notes to remember:\n",
    "\n",
    " * Data for PRs and Trac Tickets can be mapped to a name from a username.\n",
    " * Names in thanks lists _may_ be able to be mapped to a username.\n",
    " * Git names _may_ be able to be mapped to a username. "
   ]
  },
  {
   "cell_type": "code",
   "execution_count": null,
   "id": "45838de3",
   "metadata": {},
   "outputs": [],
   "source": [
    "contrib_array = {\"g\": 0, \"pr\": 0, \"prc\": 0, \"ttr\": 0, \"ttc\": 0, \"st\": 0, \"tt\": 0}\n",
    "\n",
    "contributors = {}\n",
    "\n",
    "def merge_contrib(records, key):\n",
    "    for g in records:\n",
    "        user, num = g\n",
    "        if not user in contributors.keys():\n",
    "            contributors[user] = contrib_array.copy()\n",
    "        contributors[user][key] = num\n",
    "    \n",
    "\n",
    "gc = Counter([github_user.get(g[\"author\"], g[\"author\"]) for g in git_commits]).most_common()\n",
    "merge_contrib(gc, \"g\")\n",
    "    \n",
    "prc = Counter([g[\"user\"] for g in pull_requests]).most_common()\n",
    "merge_contrib(prc, \"pr\")\n",
    "\n",
    "prcsc = Counter([g[\"user\"] for g in pr_comments]).most_common()\n",
    "merge_contrib(prcsc, \"prc\")\n",
    "\n",
    "ttrc = Counter([g[\"reporter\"] for g in trac_tickets]).most_common()\n",
    "merge_contrib(ttrc, \"ttr\")\n",
    "\n",
    "ttcc = Counter([github_user.get(g[\"name\"], g[\"name\"]) for g in trac_ticket_comments]).most_common()\n",
    "merge_contrib(ttcc, \"ttc\")\n",
    "\n",
    "stc = Counter([github_user.get(g, g) for g in security_thanks]).most_common()\n",
    "merge_contrib(stc, \"st\")\n",
    "\n",
    "ttc = Counter([github_user.get(g, g) for g in translator_thanks]).most_common()\n",
    "merge_contrib(ttc, \"tt\")\n",
    "    \n",
    "contributors\n",
    "\n",
    "table = Table(title=f\"Contributions to Django {target_release}\")\n",
    "for col in [\"Name\", \"User\", \"Commits\", \"PRs\", \"PR Cs\", \"Trac\", \"Trac Cs\", \"Sec.\", \"Transl.\"]:\n",
    "    table.add_column(col)\n",
    "\n",
    "for c in contributors:\n",
    "    table.add_row(c, github_name.get(c, c), *[str(s[1]) for s in contributors[c].items()] )\n",
    "   \n",
    "console.print(table)"
   ]
  },
  {
   "cell_type": "markdown",
   "id": "875f5c13",
   "metadata": {},
   "source": [
    "# Results <a class=\"anchor\" id=\"results\"></a>"
   ]
  },
  {
   "cell_type": "markdown",
   "id": "121e1e9c",
   "metadata": {},
   "source": [
    "Now, with the data we have, we can now generate a unique list of all the humans who contributed. \n",
    "\n",
    "This is going to be based only on the data we already have, and is biased on all our prior assumptions. "
   ]
  },
  {
   "cell_type": "code",
   "execution_count": null,
   "id": "6447b36a",
   "metadata": {},
   "outputs": [],
   "source": [
    "django_contributors = unique([github_name.get(g, g) for g in unique(contributors.keys())])\n",
    "print(f\"Contributors to Django {target_release}:\", len(django_contributors))\n",
    "print(\"\\n\".join(django_contributors))"
   ]
  },
  {
   "cell_type": "markdown",
   "id": "34d2a88d",
   "metadata": {},
   "source": [
    "----\n",
    "\n",
    "Feedback? Comments? Questions? Corrections? \n",
    "\n",
    "Please log an issue on the GitHub repo, or email me: katie `[at]` glasnt.com "
   ]
  }
 ],
 "metadata": {
  "kernelspec": {
   "display_name": "Python 3 (ipykernel)",
   "language": "python",
   "name": "python3"
  },
  "language_info": {
   "codemirror_mode": {
    "name": "ipython",
    "version": 3
   },
   "file_extension": ".py",
   "mimetype": "text/x-python",
   "name": "python",
   "nbconvert_exporter": "python",
   "pygments_lexer": "ipython3",
   "version": "3.11.4"
  }
 },
 "nbformat": 4,
 "nbformat_minor": 5
}
